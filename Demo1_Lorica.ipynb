{
  "nbformat": 4,
  "nbformat_minor": 0,
  "metadata": {
    "colab": {
      "name": "Demo1 - Lorica.ipynb",
      "provenance": [],
      "authorship_tag": "ABX9TyPBAV2hxJD2HpGl06eJlngB",
      "include_colab_link": true
    },
    "kernelspec": {
      "name": "python3",
      "display_name": "Python 3"
    },
    "language_info": {
      "name": "python"
    }
  },
  "cells": [
    {
      "cell_type": "markdown",
      "metadata": {
        "id": "view-in-github",
        "colab_type": "text"
      },
      "source": [
        "<a href=\"https://colab.research.google.com/github/Landzkii/CVSU---CPEN21A---CPE---1-2/blob/main/Demo1_Lorica.ipynb\" target=\"_parent\"><img src=\"https://colab.research.google.com/assets/colab-badge.svg\" alt=\"Open In Colab\"/></a>"
      ]
    },
    {
      "cell_type": "markdown",
      "metadata": {
        "id": "oWGGyR0IErZi"
      },
      "source": [
        "## IntroToPython\n"
      ]
    },
    {
      "cell_type": "code",
      "metadata": {
        "colab": {
          "base_uri": "https://localhost:8080/"
        },
        "id": "Ev4EbedQEqgM",
        "outputId": "3f534847-1798-4b88-d0e2-1407e1f60cb8"
      },
      "source": [
        "if 5>2:\n",
        "  print(\"Five is greater than two\")"
      ],
      "execution_count": 1,
      "outputs": [
        {
          "output_type": "stream",
          "name": "stdout",
          "text": [
            "Five is greater than two\n"
          ]
        }
      ]
    },
    {
      "cell_type": "code",
      "metadata": {
        "colab": {
          "base_uri": "https://localhost:8080/"
        },
        "id": "wdvbLF__FOsk",
        "outputId": "2af03ef4-1670-4dd1-d74f-22413c01f0c7"
      },
      "source": [
        "x = 1\n",
        "x, y = 1,2\n",
        "x,y,z = 1,2,3\n",
        "print(x)\n",
        "print(y)\n",
        "print(z)"
      ],
      "execution_count": 4,
      "outputs": [
        {
          "output_type": "stream",
          "name": "stdout",
          "text": [
            "1\n",
            "2\n",
            "3\n"
          ]
        }
      ]
    },
    {
      "cell_type": "code",
      "metadata": {
        "colab": {
          "base_uri": "https://localhost:8080/"
        },
        "id": "5DjizzEjFS_L",
        "outputId": "babf0c88-618e-4d24-97a3-4e0bbb597431"
      },
      "source": [
        "x = 5\n",
        "y = \"John\"\n",
        "print(type(x))\n",
        "print(type(y))\n"
      ],
      "execution_count": 5,
      "outputs": [
        {
          "output_type": "stream",
          "name": "stdout",
          "text": [
            "<class 'int'>\n",
            "<class 'str'>\n"
          ]
        }
      ]
    },
    {
      "cell_type": "code",
      "metadata": {
        "colab": {
          "base_uri": "https://localhost:8080/"
        },
        "id": "CaDAUon-GuVS",
        "outputId": "ec8564f6-499f-4566-88c5-8e45143e723e"
      },
      "source": [
        "a = 5\n",
        "A = 6\n",
        "print(a)\n",
        "print(A)"
      ],
      "execution_count": 6,
      "outputs": [
        {
          "output_type": "stream",
          "name": "stdout",
          "text": [
            "5\n",
            "6\n"
          ]
        }
      ]
    },
    {
      "cell_type": "code",
      "metadata": {
        "colab": {
          "base_uri": "https://localhost:8080/"
        },
        "id": "wnkZ_9NWG7fa",
        "outputId": "d62d223d-eb71-47df-c496-61091f16ca45"
      },
      "source": [
        "x, y, z = \"one\", \"two\", \"three\"\n",
        "print(x)\n",
        "print(y)\n",
        "print(z)\n"
      ],
      "execution_count": 7,
      "outputs": [
        {
          "output_type": "stream",
          "name": "stdout",
          "text": [
            "one\n",
            "two\n",
            "three\n"
          ]
        }
      ]
    },
    {
      "cell_type": "code",
      "metadata": {
        "colab": {
          "base_uri": "https://localhost:8080/"
        },
        "id": "FmRsB9L-HSUP",
        "outputId": "1e25e490-1c29-4e52-9f7e-749c04da2654"
      },
      "source": [
        "x = y = z = 5\n",
        "print(x)\n",
        "print(y)\n",
        "print(z)\n"
      ],
      "execution_count": 8,
      "outputs": [
        {
          "output_type": "stream",
          "name": "stdout",
          "text": [
            "5\n",
            "5\n",
            "5\n"
          ]
        }
      ]
    },
    {
      "cell_type": "code",
      "metadata": {
        "colab": {
          "base_uri": "https://localhost:8080/"
        },
        "id": "IQcmzzqgHdf5",
        "outputId": "832b2765-0e06-4664-b38c-0279f057da07"
      },
      "source": [
        "x = \"enjoying! :D\"\n",
        "print(\"Python is \"+ x)"
      ],
      "execution_count": 10,
      "outputs": [
        {
          "output_type": "stream",
          "name": "stdout",
          "text": [
            "Python is enjoying! :D\n"
          ]
        }
      ]
    },
    {
      "cell_type": "code",
      "metadata": {
        "colab": {
          "base_uri": "https://localhost:8080/"
        },
        "id": "YZl4O79GH92k",
        "outputId": "84084eaa-ed4e-4119-82cc-cb28336d7a6d"
      },
      "source": [
        "x = \"Python\"\n",
        "y = ' is enjoying'\n",
        "z = x + y\n",
        "print(z)"
      ],
      "execution_count": 13,
      "outputs": [
        {
          "output_type": "stream",
          "name": "stdout",
          "text": [
            "Python is enjoying\n"
          ]
        }
      ]
    },
    {
      "cell_type": "code",
      "metadata": {
        "colab": {
          "base_uri": "https://localhost:8080/"
        },
        "id": "v_vwXpSQIo_d",
        "outputId": "6247190f-2559-4dcc-827a-71e5b47dcf50"
      },
      "source": [
        "x = 5\n",
        "y=4\n",
        "sum=x+y\n",
        "sum"
      ],
      "execution_count": 14,
      "outputs": [
        {
          "output_type": "execute_result",
          "data": {
            "text/plain": [
              "9"
            ]
          },
          "metadata": {},
          "execution_count": 14
        }
      ]
    }
  ]
}